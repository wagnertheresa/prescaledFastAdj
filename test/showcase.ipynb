{
 "cells": [
  {
   "cell_type": "markdown",
   "metadata": {},
   "source": [
    "# prescaledFastAdj kernel evaluations in Python with `prescaledfastadj`\n",
    "\n",
    "### Problem setting\n",
    "\n",
    "For a given $d$-dimensional *point cloud* of $n$ points $x_i \\in \\mathbb{R}^d$, $i=1,\\ldots,n$, the associated adjacency matrix has the form\n",
    "$$\n",
    "A_{\\text{gauss}} = (a_{ij})_{i,j=1}^n \\in \\mathbb{R}^{n \\times n}, \\qquad A_{ij} = \\exp\\left(\\frac{-\\|\\mathbf{x}_i - \\mathbf{x}_j\\|_2^2}{c^2}\\right)\n",
    "$$\n",
    "$$\n",
    "A_{\\text{der}} = (a_{ij})_{i,j=1}^n \\in \\mathbb{R}^{n \\times n}, \\qquad A_{ij} = \\frac{\\|\\mathbf{x}_i - \\mathbf{x}_j\\|_2^2}{c^2} \\exp\\left(\\frac{-\\|\\mathbf{x}_i - \\mathbf{x}_j\\|_2^2}{c^2}\\right)\n",
    "$$\n",
    "$$\n",
    "A_{\\text{matern}} = (a_{ij})_{i,j=1}^n \\in \\mathbb{R}^{n \\times n}, \\qquad A_{ij} = \\exp\\left(\\frac{-\\|\\mathbf{x}_i - \\mathbf{x}_j\\|_2}{c}\\right)\n",
    "$$\n",
    "for the different kernel designs, where $c$ is a shape parameter. \n",
    "\n",
    "We use a fast summation scheme based on the Non-equispaced Fast Fourier Transformation (NFFT) to approximate this matrix by a similar deterministic linear operator that allows cheaper computations.\n",
    "The quality of the approximation depends on a handful of parameters. \n",
    "If these are kept fixed, the computational cost of a single matrix-vector product depends linearly on $n$ but expontially on $d$, as opposed to the naive computations depending quadratically on $n$ and linearly on $d$.\n",
    "For that reason, this software is targeted at the case of very large $n$ and small $d=2,3,4$.\n",
    "\n",
    "In our Python code, the data points are stored in the rows of a numpy array `X` of shape `(n,d)`:"
   ]
  },
  {
   "cell_type": "code",
   "execution_count": 1,
   "metadata": {},
   "outputs": [],
   "source": [
    "import numpy as np\n",
    "\n",
    "n = 10000\n",
    "d = 6\n",
    "# define feature windows\n",
    "wind = [[0,1,2],[3,4,5]]\n",
    "\n",
    "points = np.random.randn(n, d)"
   ]
  },
  {
   "cell_type": "markdown",
   "metadata": {},
   "source": [
    "### Creating the adjacency matrix object\n",
    "\n",
    "The most convenient way to set up computations with the adjacency matrix is the `AdjacencyMatrix` class. Note that the kernels are of a slightly different design in our paper and we therefore have to add some prefactors."
   ]
  },
  {
   "cell_type": "code",
   "execution_count": 6,
   "metadata": {},
   "outputs": [],
   "source": [
    "import prescaledfastadj\n",
    "\n",
    "# define length-scale parameter sigma and signal variance parameter sf\n",
    "sigma = 1.0\n",
    "sf = np.sqrt(1/len(wind))\n",
    "adj_gauss = [prescaledfastadj.AdjacencyMatrix(points[:,wind[i]], np.sqrt(2)*sigma, kernel=1, setup='default', diagonal=1.0) for i in range(len(wind))]\n",
    "adj_der = [prescaledfastadj.AdjacencyMatrix(points[:,wind[i]], np.sqrt(2)*sigma, kernel=2, setup='default', diagonal=0.0) for i in range(len(wind))]\n",
    "adj_matern = [prescaledfastadj.AdjacencyMatrix(points[:,wind[i]], sigma, kernel=3, setup='default', diagonal=1.0) for i in range(len(wind))]"
   ]
  },
  {
   "cell_type": "markdown",
   "metadata": {},
   "source": [
    "* The `points` array and the Gaussian shape parameter `sigma` are required positional arguments.\n",
    "* The `setup` argument may be one of the string constants `'default'`, `'fine'`, or `'rough'`, which load setup presets for the parameters of the NFFT fastsum method.\n",
    "* For finer control over the parameters, pass `setup=fastadj.AccuracySetup(N,p,m,eps,tol)`, where\n",
    "  - `N` is the NFFT expansion degree (called $n$ in the NFFT),\n",
    "  - `p` is a smoothness parameter,\n",
    "  - `m` is a window cutoff parameter,\n",
    "  - `eps` is the outer boundary width (called $\\varepsilon_B$ in the NFFT, while $\\varepsilon_I$ is always zero),\n",
    "  - `tol` is the tolerance to be used for future eigenvalue computations.\n",
    "* The constructor has an optional fourth argument, `diagonal`, which can be set to manipulate the scalar value on the diagonal of the adjacency matrix. The default is 0. It can also be changed later on via `adj.diagonal`."
   ]
  },
  {
   "cell_type": "markdown",
   "metadata": {},
   "source": [
    "### Approximate matrix-vector products\n",
    "\n",
    "Use `adj.apply` to compute the approximate results of the product with a vector, i.e., the image of that vector under the operator $A$. The vector must be passed as a numpy array of shape `(n,)`, same as the return value. For example, the vector of node degrees can be approximated via the following code:"
   ]
  },
  {
   "cell_type": "code",
   "execution_count": 7,
   "metadata": {},
   "outputs": [
    {
     "name": "stdout",
     "output_type": "stream",
     "text": [
      "Avg/min/max degree gauss: 1946.95, 172.03, 3435.02\n",
      "Avg/min/max degree der: 3874.90, 792.53, 5244.73\n",
      "Avg/min/max degree matern: 907.84, 32.09, 1854.79\n"
     ]
    }
   ],
   "source": [
    "degrees_gauss = [adj_gauss[i].apply(np.ones(n)) for i in range(len(wind))]\n",
    "degrees_gauss = (sf**2) * np.sum(degrees_gauss, axis=0)\n",
    "print(\"Avg/min/max degree gauss: {:.2f}, {:.2f}, {:.2f}\".format(degrees_gauss.mean(), degrees_gauss.min(), degrees_gauss.max()))\n",
    "\n",
    "degrees_der = [(2/sigma)*adj_der[i].apply(np.ones(n)) for i in range(len(wind))]\n",
    "degrees_der = (sf**2) * np.sum(degrees_der, axis=0)\n",
    "print(\"Avg/min/max degree der: {:.2f}, {:.2f}, {:.2f}\".format(degrees_der.mean(), degrees_der.min(), degrees_der.max()))\n",
    "\n",
    "degrees_matern = [adj_matern[i].apply(np.ones(n)) for i in range(len(wind))]\n",
    "degrees_matern = (sf**2) * np.sum(degrees_matern, axis=0)\n",
    "print(\"Avg/min/max degree matern: {:.2f}, {:.2f}, {:.2f}\".format(degrees_matern.mean(), degrees_matern.min(), degrees_matern.max()))"
   ]
  },
  {
   "cell_type": "code",
   "execution_count": null,
   "metadata": {},
   "outputs": [],
   "source": []
  }
 ],
 "metadata": {
  "@webio": {
   "lastCommId": "8d97087e031e468fa4df51f9eec2b313",
   "lastKernelId": "f6ad27d3-4af9-42a3-87be-68a3831bc0aa"
  },
  "kernelspec": {
   "display_name": "Python 3 (ipykernel)",
   "language": "python",
   "name": "python3"
  },
  "language_info": {
   "codemirror_mode": {
    "name": "ipython",
    "version": 3
   },
   "file_extension": ".py",
   "mimetype": "text/x-python",
   "name": "python",
   "nbconvert_exporter": "python",
   "pygments_lexer": "ipython3",
   "version": "3.10.4"
  }
 },
 "nbformat": 4,
 "nbformat_minor": 4
}
