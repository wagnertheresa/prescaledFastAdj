{
 "cells": [
  {
   "cell_type": "markdown",
   "metadata": {},
   "source": [
    "# prescaledFastAdj kernel evaluations in Python with `prescaledfastadj`\n",
    "\n",
    "### Problem setting\n",
    "\n",
    "For a given $d$-dimensional *point cloud* of $n$ points $x_i \\in \\mathbb{R}^d$, $i=1,\\ldots,n$, the associated adjacency matrix has the form\n",
    "$$\n",
    "A_{\\text{gauss}} = (a_{ij})_{i,j=1}^n \\in \\mathbb{R}^{n \\times n}, \\qquad A_{ij} = \\exp\\left(\\frac{-\\|\\mathbf{x}_i - \\mathbf{x}_j\\|_2^2}{c^2}\\right)\n",
    "$$\n",
    "$$\n",
    "A_{\\text{der}} = (a_{ij})_{i,j=1}^n \\in \\mathbb{R}^{n \\times n}, \\qquad A_{ij} = \\frac{\\|\\mathbf{x}_i - \\mathbf{x}_j\\|_2^2}{c^2} \\exp\\left(\\frac{-\\|\\mathbf{x}_i - \\mathbf{x}_j\\|_2^2}{c^2}\\right)\n",
    "$$\n",
    "$$\n",
    "A_{\\text{matern}} = (a_{ij})_{i,j=1}^n \\in \\mathbb{R}^{n \\times n}, \\qquad A_{ij} = \\exp\\left(\\frac{-\\|\\mathbf{x}_i - \\mathbf{x}_j\\|_2}{c}\\right)\n",
    "$$\n",
    "$$\n",
    "A_{\\text{dermat}} = (a_{ij})_{i,j=1}^n \\in \\mathbb{R}^{n \\times n}, \\qquad A_{ij} = \\frac{\\|\\mathbf{x}_i - \\mathbf{x}_j\\|_2}{c} \\exp\\left(\\frac{-\\|\\mathbf{x}_i - \\mathbf{x}_j\\|_2}{c}\\right)\n",
    "$$\n",
    "for the different kernel designs, where $c$ is a shape parameter. \n",
    "\n",
    "We use a fast summation scheme based on the Non-equispaced Fast Fourier Transformation (NFFT) to approximate this matrix by a similar deterministic linear operator that allows cheaper computations.\n",
    "The quality of the approximation depends on a handful of parameters. \n",
    "If these are kept fixed, the computational cost of a single matrix-vector product depends linearly on $n$ but expontially on $d$, as opposed to the naive computations depending quadratically on $n$ and linearly on $d$.\n",
    "For that reason, this software is targeted at the case of very large $n$ and small $d=2,3,4$.\n",
    "\n",
    "In our Python code, the data points are stored in the rows of a numpy array `X` of shape `(n,d)`:"
   ]
  },
  {
   "cell_type": "code",
   "execution_count": 1,
   "metadata": {},
   "outputs": [],
   "source": [
    "import numpy as np\n",
    "\n",
    "n = 10000\n",
    "d = 6\n",
    "# define feature windows\n",
    "wind = [[0,1,2],[3,4,5]]\n",
    "\n",
    "# define signal variance parameter sf\n",
    "sf = np.sqrt(1/len(wind))\n",
    "\n",
    "x = np.random.randn(n, d)"
   ]
  },
  {
   "cell_type": "markdown",
   "metadata": {},
   "source": [
    "### Prescaling the data\n",
    "\n",
    "The data is prescaled with scaling parameters based on the scaled data and is scaled equally in all dimensions for a transparent and comparable global sensitivity analysis."
   ]
  },
  {
   "cell_type": "code",
   "execution_count": 2,
   "metadata": {},
   "outputs": [],
   "source": [
    "# scale data points equally\n",
    "points_center = np.mean(x, axis=0)\n",
    "points = x - points_center\n",
    "\n",
    "# scale features such that abs(x[:,j]) <= 0.25\n",
    "# scale values in range [-0.25, 0.25]\n",
    "for j in range(d):\n",
    "    m = np.max(np.abs(points[:,j]))\n",
    "    points[:,j] = points[:,j] / m * 0.25\n",
    "# determine sigma value in this setting\n",
    "sigma = 1.0\n",
    "# determine maximum number of features in window/kernel\n",
    "dmax = 3\n",
    "# compute maximum radius possible in dmax dimensions\n",
    "scaling = np.sqrt(dmax)\n",
    "# ensure max radius 0.25 for points\n",
    "points = points / scaling\n",
    "# scale sigma accordingly\n",
    "scaledsigma = sigma / scaling"
   ]
  },
  {
   "cell_type": "markdown",
   "metadata": {
    "tags": []
   },
   "source": [
    "### Creating the adjacency matrix object\n",
    "\n",
    "The most convenient way to set up computations with the adjacency matrix is the `AdjacencyMatrix` class. Note that the kernels are of a slightly different design in our paper and we therefore have to add some prefactors."
   ]
  },
  {
   "cell_type": "code",
   "execution_count": 3,
   "metadata": {},
   "outputs": [],
   "source": [
    "import prescaledfastadj\n",
    "\n",
    "adj_gauss = [prescaledfastadj.AdjacencyMatrix(points[:,wind[i]], np.sqrt(2)*scaledsigma, kernel=1, setup='default', diagonal=1.0) for i in range(len(wind))]\n",
    "adj_der = [prescaledfastadj.AdjacencyMatrix(points[:,wind[i]], np.sqrt(2)*scaledsigma, kernel=2, setup='default', diagonal=0.0) for i in range(len(wind))]\n",
    "adj_matern = [prescaledfastadj.AdjacencyMatrix(points[:,wind[i]], scaledsigma, kernel=3, setup='default', diagonal=1.0) for i in range(len(wind))]\n",
    "adj_dermat = [prescaledfastadj.AdjacencyMatrix(points[:,wind[i]], scaledsigma, kernel=4, setup='default', diagonal=0.0) for i in range(len(wind))]"
   ]
  },
  {
   "cell_type": "markdown",
   "metadata": {},
   "source": [
    "* The `points` array and the Gaussian shape parameter `sigma` are required positional arguments.\n",
    "* The `setup` argument may be one of the string constants `'default'`, `'fine'`, or `'rough'`, which load setup presets for the parameters of the NFFT fastsum method.\n",
    "* For finer control over the parameters, pass `setup=fastadj.AccuracySetup(N,p,m,eps,tol)`, where\n",
    "  - `N` is the NFFT expansion degree (called $n$ in the NFFT),\n",
    "  - `p` is a smoothness parameter,\n",
    "  - `m` is a window cutoff parameter,\n",
    "  - `eps` is the outer boundary width (called $\\varepsilon_B$ in the NFFT, while $\\varepsilon_I$ is always zero),\n",
    "  - `tol` is the tolerance to be used for future eigenvalue computations.\n",
    "* The constructor has an optional fourth argument, `diagonal`, which can be set to manipulate the scalar value on the diagonal of the adjacency matrix. The default is 0. It can also be changed later on via `adj.diagonal`."
   ]
  },
  {
   "cell_type": "markdown",
   "metadata": {},
   "source": [
    "### Approximate matrix-vector products\n",
    "\n",
    "Use `adj.apply` to compute the approximate results of the product with a vector, i.e., the image of that vector under the operator $A$. The vector must be passed as a numpy array of shape `(n,)`, same as the return value. For example, the vector of node degrees can be approximated via the following code:"
   ]
  },
  {
   "cell_type": "code",
   "execution_count": 4,
   "metadata": {},
   "outputs": [
    {
     "name": "stdout",
     "output_type": "stream",
     "text": [
      "Avg/min/max degree gauss: 9878.72, 9660.28, 9937.73\n",
      "Avg/min/max degree der: 240.09, 123.88, 664.78\n",
      "Avg/min/max degree matern: 9759.89, 9334.97, 9876.12\n",
      "Avg/min/max degree dermat: 9758.89, 9333.97, 9875.12\n"
     ]
    }
   ],
   "source": [
    "degrees_gauss = [adj_gauss[i].apply(np.ones(n)) for i in range(len(wind))]\n",
    "degrees_gauss = (sf**2) * np.sum(degrees_gauss, axis=0)\n",
    "print(\"Avg/min/max degree gauss: {:.2f}, {:.2f}, {:.2f}\".format(degrees_gauss.mean(), degrees_gauss.min(), degrees_gauss.max()))\n",
    "\n",
    "degrees_der = [(2/sigma)*adj_der[i].apply(np.ones(n)) for i in range(len(wind))]\n",
    "degrees_der = (sf**2) * np.sum(degrees_der, axis=0)\n",
    "print(\"Avg/min/max degree der: {:.2f}, {:.2f}, {:.2f}\".format(degrees_der.mean(), degrees_der.min(), degrees_der.max()))\n",
    "\n",
    "degrees_matern = [adj_matern[i].apply(np.ones(n)) for i in range(len(wind))]\n",
    "degrees_matern = (sf**2) * np.sum(degrees_matern, axis=0)\n",
    "print(\"Avg/min/max degree matern: {:.2f}, {:.2f}, {:.2f}\".format(degrees_matern.mean(), degrees_matern.min(), degrees_matern.max()))\n",
    "\n",
    "degrees_dermat = [adj_dermat[i].apply(np.ones(n)) for i in range(len(wind))]\n",
    "degrees_dermat = (sf**2) * np.sum(degrees_dermat, axis=0)\n",
    "print(\"Avg/min/max degree dermat: {:.2f}, {:.2f}, {:.2f}\".format(degrees_dermat.mean(), degrees_dermat.min(), degrees_dermat.max()))"
   ]
  },
  {
   "cell_type": "markdown",
   "metadata": {},
   "source": [
    "### Eigenvalues of the normalized adjacency matrix\n",
    "\n",
    "The method `adj.normalized_eigs` computes the largest algebraic eigenvalues of the normalized adjacency matrix, $\\hat{A} = D^{-1/2} A D^{-1/2}$, where $D$ is the diagonal matrix holding the node `degrees` as above."
   ]
  },
  {
   "cell_type": "code",
   "execution_count": 5,
   "metadata": {},
   "outputs": [
    {
     "name": "stdout",
     "output_type": "stream",
     "text": [
      "Time for eigenvalue computation: 1.9249 seconds\n",
      "Eigenvalue #0: 1.0000 - Residual: 1.0000e+00\n",
      "Eigenvalue #1: 0.0016 - Residual: 1.5622e-03\n",
      "Eigenvalue #2: 0.0014 - Residual: 1.3835e-03\n",
      "Eigenvalue #3: 0.0012 - Residual: 1.1551e-03\n",
      "Eigenvalue #4: 0.0000 - Residual: 5.5946e-06\n",
      "Eigenvalue #5: 0.0000 - Residual: 5.4646e-06\n",
      "Eigenvalue #6: 0.0000 - Residual: 5.0332e-06\n",
      "Eigenvalue #7: 0.0000 - Residual: 4.2469e-06\n",
      "Eigenvalue #8: 0.0000 - Residual: 2.7912e-06\n",
      "Eigenvalue #9: 0.0000 - Residual: 2.3518e-06\n"
     ]
    }
   ],
   "source": [
    "from time import perf_counter as timer\n",
    "\n",
    "adj = prescaledfastadj.AdjacencyMatrix(points[:,:3], np.sqrt(2)*sigma, kernel=1, setup='default', diagonal=1.0)\n",
    "degrees = (sf**2) * adj.apply(np.ones(n))\n",
    "\n",
    "tic = timer()\n",
    "\n",
    "w, U = adj.normalized_eigs(k=10)\n",
    "\n",
    "time_eigs = timer() - tic\n",
    "print(\"Time for eigenvalue computation: {:.4f} seconds\".format(time_eigs))\n",
    "\n",
    "d_invsqrt = 1 / np.sqrt(degrees)\n",
    "\n",
    "for i in range(w.size):\n",
    "    res = np.linalg.norm(d_invsqrt * adj.apply(d_invsqrt * U[:,i]) - U[:,i] * w[i])\n",
    "    print(\"Eigenvalue #{}: {:.4f} - Residual: {:.4e}\".format(i, w[i], res))"
   ]
  },
  {
   "cell_type": "markdown",
   "metadata": {},
   "source": [
    "* The argument `k` is the number of eigenvalues to be computed.\n",
    "* The method has additional arguments to control the used algorithm, but these should generally not be needed.\n",
    "* By default, the Krylov-Schur algorithm is used on a shifted matrix.\n",
    "* The method returns `w, U`, where `w` is the vector of eigenvalues and `U` is the matrix holding the corresponding eigenvectors in its columns."
   ]
  },
  {
   "cell_type": "markdown",
   "metadata": {},
   "source": [
    "### Operator norm of the normalized graph Laplacian matrix\n",
    "\n",
    "A common use case of the normalized adjacency matrix are computations with the symmetrically normalized graph Laplacian matrix, $\\mathcal{L} = I - \\hat{A} = I - D^{-1/2} A D^{-1/2}$ (where $I$ is the identity matrix). `adj.normalized_laplacian_norm()` computes the 2-norm of that matrix, which is equal to one minus the smallest algebraic eigenvalue of $\\hat{A}$."
   ]
  },
  {
   "cell_type": "code",
   "execution_count": 6,
   "metadata": {},
   "outputs": [
    {
     "name": "stdout",
     "output_type": "stream",
     "text": [
      "Normalized Laplacian norm: 1.0000   (computed in 1.76 seconds)\n"
     ]
    }
   ],
   "source": [
    "tic = timer()\n",
    "\n",
    "norm = adj.normalized_laplacian_norm()\n",
    "\n",
    "time_norm = timer() - tic\n",
    "print(\"Normalized Laplacian norm: {:.4f}   (computed in {:.2f} seconds)\".format(norm, time_norm))"
   ]
  },
  {
   "cell_type": "markdown",
   "metadata": {},
   "source": [
    "### Manipulating the setting\n",
    "\n",
    "In typical applications, the setting is set once and left fixed afterwards. However, manipulations are possible in some cases:\n",
    "* Setting `adj.points` tries to reuse the internal computational structure for the adjacency matrix of new data. The number of points may also change. Due to internal scaling, this is not always possible, and if it is, the setup will not be optimal. Since the original internal setup is usually not very expensive, it is recommended to simply create a new `AdjacencyMatrix` instead of updating the `points` of an existing one.\n",
    "* For convenience, setting `adj.sigma` is also supported. However, it is computationally equivalent to creating a new `AdjacencyMatrix`.\n",
    "* Updating `adj.scaling_factor` or the values in `adj.setup` does not work and may break things."
   ]
  },
  {
   "cell_type": "code",
   "execution_count": 6,
   "metadata": {},
   "outputs": [],
   "source": [
    "adj.points = np.random.randn(100, 3)\n",
    "adj.sigma = 2"
   ]
  }
 ],
 "metadata": {
  "@webio": {
   "lastCommId": "8d97087e031e468fa4df51f9eec2b313",
   "lastKernelId": "f6ad27d3-4af9-42a3-87be-68a3831bc0aa"
  },
  "kernelspec": {
   "display_name": "Python 3 (ipykernel)",
   "language": "python",
   "name": "python3"
  },
  "language_info": {
   "codemirror_mode": {
    "name": "ipython",
    "version": 3
   },
   "file_extension": ".py",
   "mimetype": "text/x-python",
   "name": "python",
   "nbconvert_exporter": "python",
   "pygments_lexer": "ipython3",
   "version": "3.10.4"
  }
 },
 "nbformat": 4,
 "nbformat_minor": 4
}
