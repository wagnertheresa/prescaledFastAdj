{
 "cells": [
  {
   "cell_type": "markdown",
   "metadata": {},
   "source": [
    "# prescaledFastAdj kernel evaluations in Python with `prescaledfastadj`\n",
    "\n",
    "### Problem setting\n",
    "\n",
    "For a given $d$-dimensional *point cloud* of $n$ points $x_i \\in \\mathbb{R}^d$, $i=1,\\ldots,n$, the associated adjacency matrix has the form\n",
    "$$\n",
    "A_{\\text{gauss}} = (a_{ij})_{i,j=1}^n \\in \\mathbb{R}^{n \\times n}, \\qquad A_{ij} = \\exp\\left(\\frac{-\\|\\mathbf{x}_i - \\mathbf{x}_j\\|_2^2}{c^2}\\right)\n",
    "$$\n",
    "$$\n",
    "A_{\\text{der}} = (a_{ij})_{i,j=1}^n \\in \\mathbb{R}^{n \\times n}, \\qquad A_{ij} = \\frac{\\|\\mathbf{x}_i - \\mathbf{x}_j\\|_2^2}{c^2} \\exp\\left(\\frac{-\\|\\mathbf{x}_i - \\mathbf{x}_j\\|_2^2}{c^2}\\right)\n",
    "$$\n",
    "$$\n",
    "A_{\\text{matern}} = (a_{ij})_{i,j=1}^n \\in \\mathbb{R}^{n \\times n}, \\qquad A_{ij} = \\exp\\left(\\frac{-\\|\\mathbf{x}_i - \\mathbf{x}_j\\|_2}{c}\\right)\n",
    "$$\n",
    "for the different kernel designs, where $c$ is a shape parameter. \n",
    "\n",
    "We use a fast summation scheme based on the Non-equispaced Fast Fourier Transformation (NFFT) to approximate this matrix by a similar deterministic linear operator that allows cheaper computations.\n",
    "The quality of the approximation depends on a handful of parameters. \n",
    "If these are kept fixed, the computational cost of a single matrix-vector product depends linearly on $n$ but expontially on $d$, as opposed to the naive computations depending quadratically on $n$ and linearly on $d$.\n",
    "For that reason, this software is targeted at the case of very large $n$ and small $d=2,3,4$.\n",
    "\n",
    "In our Python code, the data points are stored in the rows of a numpy array `X` of shape `(n,d)`:"
   ]
  },
  {
   "cell_type": "code",
   "execution_count": 5,
   "metadata": {},
   "outputs": [],
   "source": [
    "import numpy as np\n",
    "\n",
    "n = 10000\n",
    "d = 6\n",
    "# define feature windows\n",
    "wind = [[0,1,2],[3,4,5]]\n",
    "\n",
    "points = np.random.randn(n, d)"
   ]
  },
  {
   "cell_type": "markdown",
   "metadata": {},
   "source": [
    "### Creating the adjacency matrix object\n",
    "\n",
    "The most convenient way to set up computations with the adjacency matrix is the `AdjacencyMatrix` class. Note that the kernels are of a slightly different design in our paper and we therefore have to add some prefactors."
   ]
  },
  {
   "cell_type": "code",
   "execution_count": 6,
   "metadata": {},
   "outputs": [
    {
     "ename": "ModuleNotFoundError",
     "evalue": "No module named 'prescaledfastadj'",
     "output_type": "error",
     "traceback": [
      "\u001b[0;31m---------------------------------------------------------------------------\u001b[0m",
      "\u001b[0;31mModuleNotFoundError\u001b[0m                       Traceback (most recent call last)",
      "Cell \u001b[0;32mIn [6], line 1\u001b[0m\n\u001b[0;32m----> 1\u001b[0m \u001b[38;5;28;01mimport\u001b[39;00m \u001b[38;5;21;01mprescaledfastadj\u001b[39;00m\n\u001b[1;32m      3\u001b[0m \u001b[38;5;66;03m# define length-scale parameter sigma and signal variance parameter sf\u001b[39;00m\n\u001b[1;32m      4\u001b[0m sigma \u001b[38;5;241m=\u001b[39m \u001b[38;5;241m1.0\u001b[39m\n",
      "\u001b[0;31mModuleNotFoundError\u001b[0m: No module named 'prescaledfastadj'"
     ]
    }
   ],
   "source": [
    "import prescaledfastadj\n",
    "\n",
    "# define length-scale parameter sigma and signal variance parameter sf\n",
    "sigma = 1.0\n",
    "sf = np.sqrt(1/len(wind))\n",
    "adj_gauss = [prescaledfastadj.AdjacencyMatrix(points[:,wind[i]], np.sqrt(2)*sigma, kernel=1, setup='default', diagonal=1.0) for i in range(len(wind))]\n",
    "adj_der = [prescaledfastadj.AdjacencyMatrix(points[:,wind[i]], np.sqrt(2)*sigma, kernel=2, setup='default', diagonal=0.0) for i in range(len(wind))]\n",
    "adj_matern = [prescaledfastadj.AdjacencyMatrix(points[:,wind[i]], sigma, kernel=3, setup='default', diagonal=1.0) for i in range(len(wind))]"
   ]
  },
  {
   "cell_type": "markdown",
   "metadata": {},
   "source": [
    "* The `points` array and the Gaussian shape parameter `sigma` are required positional arguments.\n",
    "* The `setup` argument may be one of the string constants `'default'`, `'fine'`, or `'rough'`, which load setup presets for the parameters of the NFFT fastsum method.\n",
    "* For finer control over the parameters, pass `setup=fastadj.AccuracySetup(N,p,m,eps,tol)`, where\n",
    "  - `N` is the NFFT expansion degree (called $n$ in the NFFT),\n",
    "  - `p` is a smoothness parameter,\n",
    "  - `m` is a window cutoff parameter,\n",
    "  - `eps` is the outer boundary width (called $\\varepsilon_B$ in the NFFT, while $\\varepsilon_I$ is always zero),\n",
    "  - `tol` is the tolerance to be used for future eigenvalue computations.\n",
    "* The constructor has an optional fourth argument, `diagonal`, which can be set to manipulate the scalar value on the diagonal of the adjacency matrix. The default is 0. It can also be changed later on via `adj.diagonal`."
   ]
  },
  {
   "cell_type": "markdown",
   "metadata": {},
   "source": [
    "### Approximate matrix-vector products\n",
    "\n",
    "Use `adj.apply` to compute the approximate results of the product with a vector, i.e., the image of that vector under the operator $A$. The vector must be passed as a numpy array of shape `(n,)`, same as the return value. For example, the vector of node degrees can be approximated via the following code:"
   ]
  },
  {
   "cell_type": "code",
   "execution_count": 7,
   "metadata": {},
   "outputs": [
    {
     "name": "stdout",
     "output_type": "stream",
     "text": [
      "Avg/min/max degree gauss: 1946.95, 172.03, 3435.02\n",
      "Avg/min/max degree der: 3874.90, 792.53, 5244.73\n",
      "Avg/min/max degree matern: 907.84, 32.09, 1854.79\n"
     ]
    }
   ],
   "source": [
    "degrees_gauss = [adj_gauss[i].apply(np.ones(n)) for i in range(len(wind))]\n",
    "degrees_gauss = (sf**2) * np.sum(degrees_gauss, axis=0)\n",
    "print(\"Avg/min/max degree gauss: {:.2f}, {:.2f}, {:.2f}\".format(degrees_gauss.mean(), degrees_gauss.min(), degrees_gauss.max()))\n",
    "\n",
    "degrees_der = [(2/sigma)*adj_der[i].apply(np.ones(n)) for i in range(len(wind))]\n",
    "degrees_der = (sf**2) * np.sum(degrees_der, axis=0)\n",
    "print(\"Avg/min/max degree der: {:.2f}, {:.2f}, {:.2f}\".format(degrees_der.mean(), degrees_der.min(), degrees_der.max()))\n",
    "\n",
    "degrees_matern = [adj_matern[i].apply(np.ones(n)) for i in range(len(wind))]\n",
    "degrees_matern = (sf**2) * np.sum(degrees_matern, axis=0)\n",
    "print(\"Avg/min/max degree matern: {:.2f}, {:.2f}, {:.2f}\".format(degrees_matern.mean(), degrees_matern.min(), degrees_matern.max()))"
   ]
  },
  {
   "cell_type": "markdown",
   "metadata": {},
   "source": [
    "### Eigenvalues of the normalized adjacency matrix\n",
    "\n",
    "The method `adj.normalized_eigs` computes the largest algebraic eigenvalues of the normalized adjacency matrix, $\\hat{A} = D^{-1/2} A D^{-1/2}$, where $D$ is the diagonal matrix holding the node `degrees` as above."
   ]
  },
  {
   "cell_type": "code",
   "execution_count": 2,
   "metadata": {},
   "outputs": [
    {
     "ename": "NameError",
     "evalue": "name 'prescaledfastadj' is not defined",
     "output_type": "error",
     "traceback": [
      "\u001b[0;31m---------------------------------------------------------------------------\u001b[0m",
      "\u001b[0;31mNameError\u001b[0m                                 Traceback (most recent call last)",
      "Cell \u001b[0;32mIn [2], line 3\u001b[0m\n\u001b[1;32m      1\u001b[0m \u001b[38;5;28;01mfrom\u001b[39;00m \u001b[38;5;21;01mtime\u001b[39;00m \u001b[38;5;28;01mimport\u001b[39;00m perf_counter \u001b[38;5;28;01mas\u001b[39;00m timer\n\u001b[0;32m----> 3\u001b[0m adj \u001b[38;5;241m=\u001b[39m \u001b[43mprescaledfastadj\u001b[49m\u001b[38;5;241m.\u001b[39mAdjacencyMatrix(points[:,:\u001b[38;5;241m3\u001b[39m], np\u001b[38;5;241m.\u001b[39msqrt(\u001b[38;5;241m2\u001b[39m)\u001b[38;5;241m*\u001b[39msigma, kernel\u001b[38;5;241m=\u001b[39m\u001b[38;5;241m1\u001b[39m, setup\u001b[38;5;241m=\u001b[39m\u001b[38;5;124m'\u001b[39m\u001b[38;5;124mdefault\u001b[39m\u001b[38;5;124m'\u001b[39m, diagonal\u001b[38;5;241m=\u001b[39m\u001b[38;5;241m1.0\u001b[39m)\n\u001b[1;32m      4\u001b[0m degrees \u001b[38;5;241m=\u001b[39m (sf\u001b[38;5;241m*\u001b[39m\u001b[38;5;241m*\u001b[39m\u001b[38;5;241m2\u001b[39m) \u001b[38;5;241m*\u001b[39m adj\u001b[38;5;241m.\u001b[39mapply(np\u001b[38;5;241m.\u001b[39mones(n))\n\u001b[1;32m      6\u001b[0m tic \u001b[38;5;241m=\u001b[39m timer()\n",
      "\u001b[0;31mNameError\u001b[0m: name 'prescaledfastadj' is not defined"
     ]
    }
   ],
   "source": [
    "from time import perf_counter as timer\n",
    "\n",
    "adj = prescaledfastadj.AdjacencyMatrix(points[:,:3], np.sqrt(2)*sigma, kernel=1, setup='default', diagonal=1.0)\n",
    "degrees = (sf**2) * adj.apply(np.ones(n))\n",
    "\n",
    "tic = timer()\n",
    "\n",
    "w, U = adj.normalized_eigs(k=10)\n",
    "\n",
    "time_eigs = timer() - tic\n",
    "print(\"Time for eigenvalue computation: {:.4f} seconds\".format(time_eigs))\n",
    "\n",
    "d_invsqrt = 1 / np.sqrt(degrees)\n",
    "\n",
    "for i in range(w.size):\n",
    "    res = np.linalg.norm(d_invsqrt * adj.apply(d_invsqrt * U[:,i]) - U[:,i] * w[i])\n",
    "    print(\"Eigenvalue #{}: {:.4f} - Residual: {:.4e}\".format(i, w[i], res))"
   ]
  },
  {
   "cell_type": "markdown",
   "metadata": {},
   "source": [
    "* The argument `k` is the number of eigenvalues to be computed.\n",
    "* The method has additional arguments to control the used algorithm, but these should generally not be needed.\n",
    "* By default, the Krylov-Schur algorithm is used on a shifted matrix.\n",
    "* The method returns `w, U`, where `w` is the vector of eigenvalues and `U` is the matrix holding the corresponding eigenvectors in its columns."
   ]
  },
  {
   "cell_type": "markdown",
   "metadata": {},
   "source": [
    "### Operator norm of the normalized graph Laplacian matrix\n",
    "\n",
    "A common use case of the normalized adjacency matrix are computations with the symmetrically normalized graph Laplacian matrix, $\\mathcal{L} = I - \\hat{A} = I - D^{-1/2} A D^{-1/2}$ (where $I$ is the identity matrix). `adj.normalized_laplacian_norm()` computes the 2-norm of that matrix, which is equal to one minus the smallest algebraic eigenvalue of $\\hat{A}$."
   ]
  },
  {
   "cell_type": "code",
   "execution_count": 7,
   "metadata": {},
   "outputs": [
    {
     "ename": "NameError",
     "evalue": "name 'adj' is not defined",
     "output_type": "error",
     "traceback": [
      "\u001b[0;31m---------------------------------------------------------------------------\u001b[0m",
      "\u001b[0;31mNameError\u001b[0m                                 Traceback (most recent call last)",
      "Cell \u001b[0;32mIn [7], line 3\u001b[0m\n\u001b[1;32m      1\u001b[0m tic \u001b[38;5;241m=\u001b[39m timer()\n\u001b[0;32m----> 3\u001b[0m norm \u001b[38;5;241m=\u001b[39m \u001b[43madj\u001b[49m\u001b[38;5;241m.\u001b[39mnormalized_laplacian_norm()\n\u001b[1;32m      5\u001b[0m time_norm \u001b[38;5;241m=\u001b[39m timer() \u001b[38;5;241m-\u001b[39m tic\n\u001b[1;32m      6\u001b[0m \u001b[38;5;28mprint\u001b[39m(\u001b[38;5;124m\"\u001b[39m\u001b[38;5;124mNormalized Laplacian norm: \u001b[39m\u001b[38;5;132;01m{:.4f}\u001b[39;00m\u001b[38;5;124m   (computed in \u001b[39m\u001b[38;5;132;01m{:.2f}\u001b[39;00m\u001b[38;5;124m seconds)\u001b[39m\u001b[38;5;124m\"\u001b[39m\u001b[38;5;241m.\u001b[39mformat(norm, time_norm))\n",
      "\u001b[0;31mNameError\u001b[0m: name 'adj' is not defined"
     ]
    }
   ],
   "source": [
    "tic = timer()\n",
    "\n",
    "norm = adj.normalized_laplacian_norm()\n",
    "\n",
    "time_norm = timer() - tic\n",
    "print(\"Normalized Laplacian norm: {:.4f}   (computed in {:.2f} seconds)\".format(norm, time_norm))"
   ]
  },
  {
   "cell_type": "markdown",
   "metadata": {},
   "source": [
    "### Manipulating the setting\n",
    "\n",
    "In typical applications, the setting is set once and left fixed afterwards. However, manipulations are possible in some cases:\n",
    "* Setting `adj.points` tries to reuse the internal computational structure for the adjacency matrix of new data. The number of points may also change. Due to internal scaling, this is not always possible, and if it is, the setup will not be optimal. Since the original internal setup is usually not very expensive, it is recommended to simply create a new `AdjacencyMatrix` instead of updating the `points` of an existing one.\n",
    "* For convenience, setting `adj.sigma` is also supported. However, it is computationally equivalent to creating a new `AdjacencyMatrix`.\n",
    "* Updating `adj.scaling_factor` or the values in `adj.setup` does not work and may break things."
   ]
  },
  {
   "cell_type": "code",
   "execution_count": 8,
   "metadata": {},
   "outputs": [
    {
     "ename": "NameError",
     "evalue": "name 'adj' is not defined",
     "output_type": "error",
     "traceback": [
      "\u001b[0;31m---------------------------------------------------------------------------\u001b[0m",
      "\u001b[0;31mNameError\u001b[0m                                 Traceback (most recent call last)",
      "Cell \u001b[0;32mIn [8], line 1\u001b[0m\n\u001b[0;32m----> 1\u001b[0m \u001b[43madj\u001b[49m\u001b[38;5;241m.\u001b[39mpoints \u001b[38;5;241m=\u001b[39m np\u001b[38;5;241m.\u001b[39mrandom\u001b[38;5;241m.\u001b[39mrandn(\u001b[38;5;241m100\u001b[39m, \u001b[38;5;241m3\u001b[39m)\n\u001b[1;32m      2\u001b[0m adj\u001b[38;5;241m.\u001b[39msigma \u001b[38;5;241m=\u001b[39m \u001b[38;5;241m2\u001b[39m\n",
      "\u001b[0;31mNameError\u001b[0m: name 'adj' is not defined"
     ]
    }
   ],
   "source": [
    "adj.points = np.random.randn(100, 3)\n",
    "adj.sigma = 2"
   ]
  }
 ],
 "metadata": {
  "@webio": {
   "lastCommId": "8d97087e031e468fa4df51f9eec2b313",
   "lastKernelId": "f6ad27d3-4af9-42a3-87be-68a3831bc0aa"
  },
  "kernelspec": {
   "display_name": "Python 3 (ipykernel)",
   "language": "python",
   "name": "python3"
  },
  "language_info": {
   "codemirror_mode": {
    "name": "ipython",
    "version": 3
   },
   "file_extension": ".py",
   "mimetype": "text/x-python",
   "name": "python",
   "nbconvert_exporter": "python",
   "pygments_lexer": "ipython3",
   "version": "3.8.5"
  }
 },
 "nbformat": 4,
 "nbformat_minor": 4
}
